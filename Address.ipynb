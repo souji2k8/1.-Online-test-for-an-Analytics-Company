{
 "cells": [
  {
   "cell_type": "markdown",
   "metadata": {},
   "source": [
    "### I observed that the barcode has changes to 'llllllllll' in txt document and found that and printed lines under it which is the address in this scenario. I know its not proper but I don't have necessary libraries installed in my personal laptop."
   ]
  },
  {
   "cell_type": "code",
   "execution_count": 1,
   "metadata": {},
   "outputs": [
    {
     "name": "stdout",
     "output_type": "stream",
     "text": [
      "Address:\n",
      "KTGIF SINGAPORE PTE. LTD.\n",
      "26B TEMPLE STREET\n",
      "#03-00\n",
      "SINGAPORE 058571\n"
     ]
    }
   ],
   "source": [
    "import pandas as pd\n",
    "import numpy as np\n",
    "import re\n",
    "\n",
    "name=[]\n",
    "with open('result.txt','r') as f:\n",
    "    for line in f:\n",
    "        if re.findall(r'\\w+[llll]{4}', line):\n",
    "            next(f)\n",
    "            next(f)\n",
    "            ln1,ln2,ln3,ln4=next(f),next(f),next(f),next(f)\n",
    "\n",
    "print(\"Address:\")\n",
    "print(ln1.strip())\n",
    "print(ln2.strip())\n",
    "print(ln3.strip())\n",
    "print(ln4.strip())\n",
    "        "
   ]
  }
 ],
 "metadata": {
  "kernelspec": {
   "display_name": "Python 3",
   "language": "python",
   "name": "python3"
  },
  "language_info": {
   "codemirror_mode": {
    "name": "ipython",
    "version": 3
   },
   "file_extension": ".py",
   "mimetype": "text/x-python",
   "name": "python",
   "nbconvert_exporter": "python",
   "pygments_lexer": "ipython3",
   "version": "3.7.3"
  }
 },
 "nbformat": 4,
 "nbformat_minor": 2
}
