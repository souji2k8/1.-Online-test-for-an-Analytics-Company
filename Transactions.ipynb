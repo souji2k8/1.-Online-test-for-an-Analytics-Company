{
 "cells": [
  {
   "cell_type": "markdown",
   "metadata": {},
   "source": [
    "### I used regex to find the word Date and print lines under it. We can store then in list/dataframe and can do necessary manipulation later accoring to our business problem. "
   ]
  },
  {
   "cell_type": "code",
   "execution_count": 2,
   "metadata": {},
   "outputs": [
    {
     "name": "stdout",
     "output_type": "stream",
     "text": [
      " Date                             Description                                          Withdrawal                Deposit      \n",
      "\n",
      " CURRENCY:                                                                                                                    \n",
      "\n",
      "                                                                                                                              \n",
      "\n",
      "                                                                                                                              \n",
      "\n",
      "                                  SINGAPORE DOLLAR                                                                            \n",
      "\n",
      "                                  Balance Brought Forward                                                                     \n",
      "\n",
      " 28 Aug                           Quick Cheque Deposit                                                       1,254.12         \n",
      "\n",
      " 30 Aug                           Point-of-Sale Transaction                                20.00                              \n",
      "\n",
      "                                  TRANSIT LINK PTE LTD                                                                        \n",
      "\n",
      "                                   S & S LINKERS PTE LTD                                                                       \n",
      "\n",
      "7  31 Aug                           Point-of-Sale Transaction                                26.50                              \n",
      "\n",
      "8                                   GAYATRI RESTAURANT                                                                          \n",
      "\n",
      "9  31 Aug                           Point-of-Sale Transaction                                16.00                              \n",
      "\n",
      "10                                   FOCUS NETWORK AGENCIES (S) PTE LTD                                                          \n",
      "\n",
      "11                                   Total                                                   527.50                 1.254.12     \n",
      "\n",
      "12                                   Balance Carried Forward                                                                     \n",
      "\n"
     ]
    }
   ],
   "source": [
    "import pandas as pd\n",
    "import numpy as np\n",
    "import re\n",
    "adf=[]\n",
    "df=[]\n",
    "with open('result.txt','r') as f:\n",
    "    for line in f:\n",
    "        if re.findall(r'Date', line):\n",
    "            print(line)\n",
    "#             print(line.strip())\n",
    "#             print(line.split(\" \"))\n",
    "            import re\n",
    "            line=re.sub(' +', ' ', line)\n",
    "#             print(line.split(' '))\n",
    "            df=line.split(' ')\n",
    "            df.pop(0)\n",
    "            df.pop(-1)\n",
    "#             print(df)\n",
    "            adf.append(df)\n",
    "#             print(\"adf\",adf)\n",
    "            print(next(f))\n",
    "            print(next(f))\n",
    "            print(next(f))\n",
    "            print(next(f))\n",
    "            print(next(f))\n",
    "            print(next(f))\n",
    "            print(next(f))\n",
    "            print(next(f))\n",
    "#             ln=re.sub('+',' ',next(f))\n",
    "            line=re.sub(' +', ' ', next(f))\n",
    "            df=line.split(' '),df.pop(0),df.pop(-1)\n",
    "#             print(\"df\",df)\n",
    "            df=''.join(df[5 : 8])\n",
    "#             print(df)\n",
    "            print(\"\",next(f))\n",
    "            print(\"7\",next(f))\n",
    "            print(\"8\",next(f))\n",
    "            print(\"9\",next(f))\n",
    "            print(\"10\",next(f))\n",
    "            print(\"11\",next(f))\n",
    "            print(\"12\",next(f))\n",
    "#             print(\"13\",next(f))\n",
    "#             print(\"14\",next(f))\n",
    "#             st=next(f)\n",
    "#             print(st.strip())\n",
    "#             df.append(line.rstrip().replace(\" \",''))\n",
    "# print(df[0])\n",
    "# for i in df:\n",
    "#     print(i)\n",
    "# #     str(i).replace(' ','')\n",
    "#     df.append(i)\n",
    "\n",
    "# print(adf,df)"
   ]
  },
  {
   "cell_type": "code",
   "execution_count": null,
   "metadata": {},
   "outputs": [],
   "source": []
  }
 ],
 "metadata": {
  "kernelspec": {
   "display_name": "Python 3",
   "language": "python",
   "name": "python3"
  },
  "language_info": {
   "codemirror_mode": {
    "name": "ipython",
    "version": 3
   },
   "file_extension": ".py",
   "mimetype": "text/x-python",
   "name": "python",
   "nbconvert_exporter": "python",
   "pygments_lexer": "ipython3",
   "version": "3.7.3"
  }
 },
 "nbformat": 4,
 "nbformat_minor": 2
}
